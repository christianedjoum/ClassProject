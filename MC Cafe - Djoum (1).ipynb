{
 "cells": [
  {
   "cell_type": "code",
   "execution_count": 3,
   "id": "517cd068",
   "metadata": {},
   "outputs": [],
   "source": [
    "Cafe_Menu = {  'Coffee' : { \n",
    "                            'Espresso': 1.50,\n",
    "                            'Americano': 2.00,\n",
    "                            'Caffe latte':2.25,\n",
    "                            'Mocha':2.25,\n",
    "                            'Cappucino':2.50,\n",
    "                            'Macchiato':2.50\n",
    "                            },\n",
    "             \n",
    "                'Tea' : {\n",
    "                          'White tea': 1.50,\n",
    "                          'Green tea': 2.00,\n",
    "                          'Oolong tea': 2.25,\n",
    "                          'Black tea': 2.25,\n",
    "                          'Earl Grey': 2.50,\n",
    "                          'Matcha': 2.50\n",
    "                        },\n",
    "             \n",
    "             'Pastries' : {\n",
    "                             'Croissant': 5.50,\n",
    "                             'Cinnamon roll': 4.50,\n",
    "                             'Banana bread': 4.25,\n",
    "                             'Pumpkin bread': 3.75,\n",
    "                             'Sticky bun': 4.25,\n",
    "                             'Apple turnover':3.75\n",
    "                            }\n",
    "    \n",
    "            }\n",
    "\n",
    "\n"
   ]
  },
  {
   "cell_type": "code",
   "execution_count": 6,
   "id": "5ac4e419",
   "metadata": {},
   "outputs": [],
   "source": [
    "import sys\n",
    "    \n",
    "def mc_cafe_app():\n",
    "    print('Welcome to MC Cafe!')\n",
    "    ask_to_see_menu = input('Would you like to see the menu? ')\n",
    "    if ask_to_see_menu == 'yes':\n",
    "        order_summary = {}\n",
    "        item_sub_totals = []\n",
    "        #print(Cafe_Menu)\n",
    "        for x,y in Cafe_Menu.items():\n",
    "            print(f'{y}')\n",
    "        ask_to_order = input('Would you like to place an order? ')\n",
    "        while ask_to_order == 'yes':\n",
    "            ask_for_item = str(input('What would you like to order? '))\n",
    "            Cafe_Categories = ['Coffee','Tea','Pastries']\n",
    "            if (ask_for_item in Cafe_Menu['Coffee']) or (ask_for_item in Cafe_Menu['Tea']) or (ask_for_item in Cafe_Menu['Pastries']):\n",
    "                ask_for_item_quantity = int(input('How many '))\n",
    "                order_summary[ask_for_item] = ask_for_item_quantity\n",
    "                for x in Cafe_Categories:\n",
    "                    try:\n",
    "                        cost = Cafe_Menu[x][ask_for_item]\n",
    "                    except Exception:\n",
    "                        pass\n",
    "                subtotal = cost * ask_for_item_quantity\n",
    "                item_sub_totals.append(subtotal)\n",
    "                #print(subtotal)\n",
    "            else:\n",
    "                print(f'{ask_for_item} is not in the cafe_menu!')\n",
    "            ask_to_order=input('Would you like to place another order? ')\n",
    "        pretaxtotal = 0    \n",
    "        for x in item_sub_totals:\n",
    "            pretaxtotal+=x\n",
    "        taxes = pretaxtotal * (.06)\n",
    "        rounded_taxes = round(taxes,2)\n",
    "        post_tax_total = pretaxtotal + rounded_taxes\n",
    "        rounded_post_tax_total = round(post_tax_total,2)\n",
    "        print('Sales Receipt')\n",
    "        for x,y in order_summary.items():\n",
    "            print(f'{x}: {y}')\n",
    "        print(f'sub_total ${pretaxtotal}')\n",
    "        print(f'taxes ${rounded_taxes}')\n",
    "        print(f'grand_total ${rounded_post_tax_total}')\n",
    "        print('Thank you for visiting MC Cafe!')\n",
    "    else:\n",
    "        print('Thank you for visiting MC Cafe!')\n",
    "\n"
   ]
  },
  {
   "cell_type": "code",
   "execution_count": 7,
   "id": "ae92acd7",
   "metadata": {},
   "outputs": [
    {
     "name": "stdout",
     "output_type": "stream",
     "text": [
      "Welcome to MC Cafe!\n",
      "Would you like to see the menu? yes\n",
      "{'Espresso': 1.5, 'Americano': 2.0, 'Caffe latte': 2.25, 'Mocha': 2.25, 'Cappucino': 2.5, 'Macchiato': 2.5}\n",
      "{'White tea': 1.5, 'Green tea': 2.0, 'Oolong tea': 2.25, 'Black tea': 2.25, 'Earl Grey': 2.5, 'Matcha': 2.5}\n",
      "{'Croissant': 5.5, 'Cinnamon roll': 4.5, 'Banana bread': 4.25, 'Pumpkin bread': 3.75, 'Sticky bun': 4.25, 'Apple turnover': 3.75}\n",
      "Would you like to place an order? yes\n",
      "What would you like to order? Americano\n",
      "How many 3\n",
      "Would you like to place another order? yes\n",
      "What would you like to order? Pumpkin bread\n",
      "How many 2\n",
      "Would you like to place another order? no\n",
      "Sales Receipt\n",
      "Americano: 3\n",
      "Pumpkin bread: 2\n",
      "sub_total $13.5\n",
      "taxes $0.81\n",
      "grand_total $14.31\n",
      "Thank you for visiting MC Cafe!\n"
     ]
    }
   ],
   "source": [
    "mc_cafe_app()"
   ]
  },
  {
   "cell_type": "code",
   "execution_count": null,
   "id": "d9ee14d5",
   "metadata": {},
   "outputs": [],
   "source": []
  },
  {
   "cell_type": "code",
   "execution_count": null,
   "id": "a1d23ae8",
   "metadata": {},
   "outputs": [],
   "source": []
  },
  {
   "cell_type": "code",
   "execution_count": null,
   "id": "608cdd4c",
   "metadata": {},
   "outputs": [],
   "source": []
  }
 ],
 "metadata": {
  "kernelspec": {
   "display_name": "Python 3 (ipykernel)",
   "language": "python",
   "name": "python3"
  },
  "language_info": {
   "codemirror_mode": {
    "name": "ipython",
    "version": 3
   },
   "file_extension": ".py",
   "mimetype": "text/x-python",
   "name": "python",
   "nbconvert_exporter": "python",
   "pygments_lexer": "ipython3",
   "version": "3.9.7"
  }
 },
 "nbformat": 4,
 "nbformat_minor": 5
}
